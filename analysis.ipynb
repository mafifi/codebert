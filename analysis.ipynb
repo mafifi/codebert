{
 "cells": [
  {
   "cell_type": "code",
   "execution_count": null,
   "id": "0",
   "metadata": {},
   "outputs": [],
   "source": [
    "from dotenv import load_dotenv\n",
    "import os\n",
    "\n",
    "load_dotenv()  # populates os.environ from .env  [oai_citation:11‡GeeksforGeeks](https://www.geeksforgeeks.org/using-python-environment-variables-with-python-dotenv/?utm_source=chatgpt.com)\n",
    "\n",
    "GITHUB_TOKEN = os.getenv(\"GITHUB_TOKEN\")\n",
    "LMSTUDIO_API = os.getenv(\"LMSTUDIO_API\")"
   ]
  },
  {
   "cell_type": "code",
   "execution_count": null,
   "id": "1",
   "metadata": {},
   "outputs": [],
   "source": [
    "from github import Github\n",
    "import os\n",
    "\n",
    "gh = Github(os.getenv(\"GITHUB_TOKEN\"))  # authenticate with your token  [oai_citation:13‡PyPI](https://pypi.org/project/PyGithub/?utm_source=chatgpt.com)\n",
    "repo = gh.get_repo(\"sveltejs/svelte\")\n",
    "pulls = repo.get_pulls(state=\"closed\")"
   ]
  },
  {
   "cell_type": "code",
   "execution_count": null,
   "id": "2",
   "metadata": {},
   "outputs": [],
   "source": [
    "import requests\n",
    "import time\n",
    "\n",
    "for pr in pulls:\n",
    "    files = pr.get_files()\n",
    "    code_snippets = [f.patch for f in files if f.patch]\n",
    "    # join into one big string\n",
    "    text = \"\\n\".join(code_snippets)\n",
    "    start = time.time()\n",
    "    resp = requests.post(\n",
    "        f\"{LMSTUDIO_API}/embeddings\",\n",
    "        json={\n",
    "            \"model\": \"text-embedding-codebert-base-cd-ft@q8_0\",\n",
    "            \"input\": text\n",
    "        }\n",
    "    )\n",
    "    _ = resp.json()  # embedding payload, no longer printed directly\n",
    "    elapsed = time.time() - start\n",
    "    print(f\"Embedding generation for pull request {pr.id} of {len(text.splitlines())} lines took: {elapsed:.2f}s\")\n",
    "    # store or process embedding…"
   ]
  }
 ],
 "metadata": {
  "kernelspec": {
   "display_name": "venv",
   "language": "python",
   "name": "python3"
  },
  "language_info": {
   "codemirror_mode": {
    "name": "ipython",
    "version": 3
   },
   "file_extension": ".py",
   "mimetype": "text/x-python",
   "name": "python",
   "nbconvert_exporter": "python",
   "pygments_lexer": "ipython3",
   "version": "3.13.1"
  }
 },
 "nbformat": 4,
 "nbformat_minor": 5
}
